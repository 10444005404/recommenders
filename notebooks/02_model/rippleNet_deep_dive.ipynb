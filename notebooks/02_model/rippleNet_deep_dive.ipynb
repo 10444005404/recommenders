{
 "cells": [
  {
   "cell_type": "markdown",
   "metadata": {},
   "source": [
    "# RippleNet"
   ]
  },
  {
   "cell_type": "code",
   "execution_count": 1,
   "metadata": {},
   "outputs": [
    {
     "name": "stdout",
     "output_type": "stream",
     "text": [
      "System version: 3.6.8 |Anaconda, Inc.| (default, Dec 29 2018, 19:04:46) \n",
      "[GCC 4.2.1 Compatible Clang 4.0.1 (tags/RELEASE_401/final)]\n",
      "Pandas version: 0.25.1\n"
     ]
    }
   ],
   "source": [
    "import sys\n",
    "sys.path.append(\"../../\")\n",
    "import pandas as pd\n",
    "import numpy as np\n",
    "import os\n",
    "import argparse \n",
    "\n",
    "from reco_utils.recommender.ripplenet.preprocess import (read_item_index_to_entity_id_file, \n",
    "                                         convert_rating, \n",
    "                                         convert_kg)\n",
    "\n",
    "from reco_utils.recommender.ripplenet.data_loader import (load_rating, \n",
    "                                         load_kg, \n",
    "                                         get_ripple_set)\n",
    "\n",
    "from reco_utils.recommender.ripplenet.train import (train)\n",
    "\n",
    "\n",
    "print(\"System version: {}\".format(sys.version))\n",
    "print(\"Pandas version: {}\".format(pd.__version__))"
   ]
  },
  {
   "cell_type": "code",
   "execution_count": 2,
   "metadata": {
    "tags": [
     "parameters"
    ]
   },
   "outputs": [],
   "source": [
    "MOVIELENS_DATASET = \"100k\""
   ]
  },
  {
   "cell_type": "markdown",
   "metadata": {},
   "source": [
    "## Read original data and transform entity ids to numerical"
   ]
  },
  {
   "cell_type": "code",
   "execution_count": 3,
   "metadata": {},
   "outputs": [],
   "source": [
    "kg_original = pd.read_csv(\"../../reco_utils/recommender/ripplenet/data/movielens_100k_wikidata.csv\")\n",
    "ratings_original = pd.read_csv(\"../../reco_utils/recommender/ripplenet/data/ratings_movielens_100k.csv\")\n",
    "path_out = \"../../reco_utils/recommender/ripplenet/data/movielens100k/\"\n",
    "if(os.path.exists(path_out)==False):\n",
    "  os.mkdir(path_out)"
   ]
  },
  {
   "cell_type": "code",
   "execution_count": 4,
   "metadata": {},
   "outputs": [],
   "source": [
    "def transform_id(df, entities_id, col_transform, col_name = \"unified_id\"):\n",
    "    df = df.merge(entities_id, left_on = col_transform, right_on = \"entity\")\n",
    "    df = df.rename(columns = {\"unified_id\": col_name})\n",
    "    return df.drop(columns = [col_transform, \"entity\"])"
   ]
  },
  {
   "cell_type": "code",
   "execution_count": 5,
   "metadata": {},
   "outputs": [],
   "source": [
    "var_id = \"movielens_id\"\n",
    "entities_id = pd.DataFrame({\"entity\":list(set(kg_original.original_entity)) + list(set(kg_original.linked_entities))}).reset_index()\n",
    "entities_id = entities_id.rename(columns = {\"index\": \"unified_id\"})\n",
    "\n",
    "item_to_entity = kg_original[[var_id, \"original_entity\"]].drop_duplicates().reset_index().drop(columns = \"index\")\n",
    "item_to_entity = transform_id(item_to_entity, entities_id, \"original_entity\")\n",
    "item_to_entity.to_csv(path_out+\"item_to_entity.csv\", index = False, header = False)"
   ]
  },
  {
   "cell_type": "code",
   "execution_count": 6,
   "metadata": {},
   "outputs": [],
   "source": [
    "kg = kg_original[[\"original_entity\", \"linked_entities\"]].drop_duplicates()\n",
    "kg = transform_id(kg, entities_id, \"original_entity\", \"original_entity_id\")\n",
    "kg = transform_id(kg, entities_id, \"linked_entities\", \"linked_entities_id\")\n",
    "kg[\"relation\"] = 1\n",
    "kg[[\"original_entity_id\",\"relation\", \"linked_entities_id\"]].to_csv(path_out+\"kg_wikidata.csv\", index = False, header = False)"
   ]
  },
  {
   "cell_type": "code",
   "execution_count": 10,
   "metadata": {},
   "outputs": [],
   "source": [
    "vars_movielens = [\"UserId\", \"ItemId\", \"Rating\", \"Timestamp\"]\n",
    "ratings_original[vars_movielens].sort_values(vars_movielens[1]).to_csv(path_out+\"ratings.csv\", index = False)"
   ]
  },
  {
   "cell_type": "markdown",
   "metadata": {},
   "source": [
    "## Preprocess module from RippleNet"
   ]
  },
  {
   "cell_type": "code",
   "execution_count": 11,
   "metadata": {},
   "outputs": [
    {
     "name": "stdout",
     "output_type": "stream",
     "text": [
      "reading item index to entity id file: ../../reco_utils/recommender/ripplenet/data/movielens100k/item_to_entity.csv ...\n"
     ]
    }
   ],
   "source": [
    "file = path_out+\"item_to_entity.csv\"\n",
    "item_index_old2new, entity_id2index = read_item_index_to_entity_id_file(file, sep = \",\")"
   ]
  },
  {
   "cell_type": "code",
   "execution_count": 12,
   "metadata": {},
   "outputs": [
    {
     "name": "stdout",
     "output_type": "stream",
     "text": [
      "reading rating file ...\n",
      "converting rating file ...\n",
      "number of users: 943\n",
      "number of items: 1677\n"
     ]
    }
   ],
   "source": [
    "file = path_out+\"ratings.csv\"\n",
    "convert_rating(file, sep = \",\", item_index_old2new = item_index_old2new, threshold = 1, path_out=path_out)"
   ]
  },
  {
   "cell_type": "code",
   "execution_count": 13,
   "metadata": {
    "scrolled": true
   },
   "outputs": [
    {
     "name": "stdout",
     "output_type": "stream",
     "text": [
      "converting kg file ...\n",
      "number of entities (containing items): 22994\n",
      "number of relations: 1\n"
     ]
    }
   ],
   "source": [
    "file = path_out + \"kg_wikidata.csv\"\n",
    "convert_kg(file, sep =\",\", entity_id2index = entity_id2index, path_out=path_out)"
   ]
  },
  {
   "cell_type": "markdown",
   "metadata": {},
   "source": [
    "## Load data"
   ]
  },
  {
   "cell_type": "code",
   "execution_count": 14,
   "metadata": {},
   "outputs": [],
   "source": [
    "parser = argparse.ArgumentParser() \n",
    "parser.add_argument('--dataset', type=str, default='movielens100k', help='which dataset to use') \n",
    "parser.add_argument('--dim', type=int, default=16, help='dimension of entity and relation embeddings') \n",
    "parser.add_argument('--n_hop', type=int, default=2, help='maximum hops') \n",
    "parser.add_argument('--kge_weight', type=float, default=0.01, help='weight of the KGE term') \n",
    "parser.add_argument('--l2_weight', type=float, default=1e-7, help='weight of the l2 regularization term') \n",
    "parser.add_argument('--lr', type=float, default=0.02, help='learning rate') \n",
    "parser.add_argument('--batch_size', type=int, default=1024, help='batch size') \n",
    "parser.add_argument('--n_epoch', type=int, default=10, help='the number of epochs') \n",
    "parser.add_argument('--n_memory', type=int, default=32, help='size of ripple set for each hop') \n",
    "parser.add_argument('--item_update_mode', type=str, default='plus_transform', help='how to update item at the end of each hop') \n",
    "parser.add_argument('--using_all_hops', type=bool, default=True, help='whether using outputs of all hops or just the last hop when making prediction') \n",
    "args = parser.parse_args(\"--dataset movielens100k\".split())"
   ]
  },
  {
   "cell_type": "code",
   "execution_count": 15,
   "metadata": {},
   "outputs": [
    {
     "name": "stdout",
     "output_type": "stream",
     "text": [
      "reading rating file ...\n",
      "splitting dataset ...\n",
      "reading KG file ...\n",
      "constructing knowledge graph ...\n",
      "constructing ripple set ...\n"
     ]
    }
   ],
   "source": [
    "train_data, eval_data, test_data, user_history_dict = load_rating(path_out, args)\n",
    "n_entity, n_relation, kg = load_kg(path_out, args)\n",
    "ripple_set = get_ripple_set(args, kg, user_history_dict)"
   ]
  },
  {
   "cell_type": "code",
   "execution_count": 16,
   "metadata": {},
   "outputs": [],
   "source": [
    "data_info = train_data, eval_data, test_data, n_entity, n_relation, ripple_set\n",
    "show_loss = False"
   ]
  },
  {
   "cell_type": "code",
   "execution_count": null,
   "metadata": {},
   "outputs": [],
   "source": [
    "train(args, data_info, show_loss)"
   ]
  }
 ],
 "metadata": {
  "celltoolbar": "Tags",
  "kernelspec": {
   "display_name": "Python (reco)",
   "language": "python",
   "name": "reco_base"
  },
  "language_info": {
   "codemirror_mode": {
    "name": "ipython",
    "version": 3
   },
   "file_extension": ".py",
   "mimetype": "text/x-python",
   "name": "python",
   "nbconvert_exporter": "python",
   "pygments_lexer": "ipython3",
   "version": "3.6.8"
  }
 },
 "nbformat": 4,
 "nbformat_minor": 2
}
